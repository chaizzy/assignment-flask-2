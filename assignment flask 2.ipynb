{
 "cells": [
  {
   "cell_type": "code",
   "execution_count": 1,
   "id": "f3c413c1-9c82-49e1-9427-1057b2f8ae11",
   "metadata": {},
   "outputs": [],
   "source": [
    "# ANS 1:\n",
    "# \"GET\" : in get method data is send in form of url \n",
    "# \"POST\": in post method data is send in the form of body"
   ]
  },
  {
   "cell_type": "code",
   "execution_count": 2,
   "id": "b3e30f4c-4e35-4e41-9063-8f99321fd2f1",
   "metadata": {},
   "outputs": [],
   "source": [
    "# ANS 2:\n",
    "# request  method is used to access incoming data and its stored in the request object"
   ]
  },
  {
   "cell_type": "code",
   "execution_count": 3,
   "id": "c0b91f76-1b2c-4b7e-a4a1-cdaad25319be",
   "metadata": {},
   "outputs": [],
   "source": [
    "# ANS 3:\n",
    "# redirect() method  is defined as a function or utility in flask which allows developers \n",
    "# to redirect users to a specified URL and assign a specified status code"
   ]
  },
  {
   "cell_type": "code",
   "execution_count": 4,
   "id": "9dfde34f-35e9-40b8-b2fa-c370e87afad1",
   "metadata": {},
   "outputs": [],
   "source": [
    "# ANS 4:\n",
    "# Templates are files that contain static data as well as placeholders for dynamic data. \n",
    "# A template is rendered with specific data to produce a final document.\n",
    "# render_template() is used render the data to produce the final document"
   ]
  },
  {
   "cell_type": "code",
   "execution_count": null,
   "id": "4f155c75-1aee-4446-81f1-ab99df321540",
   "metadata": {},
   "outputs": [],
   "source": []
  }
 ],
 "metadata": {
  "kernelspec": {
   "display_name": "Python 3 (ipykernel)",
   "language": "python",
   "name": "python3"
  },
  "language_info": {
   "codemirror_mode": {
    "name": "ipython",
    "version": 3
   },
   "file_extension": ".py",
   "mimetype": "text/x-python",
   "name": "python",
   "nbconvert_exporter": "python",
   "pygments_lexer": "ipython3",
   "version": "3.10.8"
  }
 },
 "nbformat": 4,
 "nbformat_minor": 5
}
